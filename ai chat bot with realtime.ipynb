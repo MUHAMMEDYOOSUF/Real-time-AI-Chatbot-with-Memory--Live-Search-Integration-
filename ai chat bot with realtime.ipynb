{
 "cells": [
  {
   "cell_type": "code",
   "execution_count": null,
   "id": "ac65ca1d",
   "metadata": {},
   "outputs": [],
   "source": []
  },
  {
   "cell_type": "code",
   "execution_count": 2,
   "id": "f4d81826",
   "metadata": {},
   "outputs": [],
   "source": [
    "from langchain_groq import ChatGroq\n",
    "from langchain_core.tools import Tool\n",
    "from langchain_google_community import GoogleSearchAPIWrapper\n",
    "from langchain.tools import WikipediaQueryRun\n",
    "from langchain_community.utilities import WikipediaAPIWrapper\n",
    "from langchain.agents import create_react_agent,AgentExecutor\n",
    "from langchain_core.prompts import PromptTemplate\n",
    "from langchain.tools.retriever import create_retriever_tool\n",
    "from langchain.memory import ConversationBufferMemory"
   ]
  },
  {
   "cell_type": "code",
   "execution_count": 24,
   "id": "26bdf3ee",
   "metadata": {},
   "outputs": [],
   "source": [
    "GROQ_API_KEY='gsk_MJkiiYtggBpMNHFvfwefFf8ayiOm3YeP2321SFOn'\n",
    "GOOGLE_API_KEY='AIzaBGhmmIUIOPiytgeewfNGhjopbvftyP1BS-HZiyoY'\n",
    "SEARCH_ENGINE_ID='437hjk789mdhd89wtf94ab9'"
   ]
  },
  {
   "cell_type": "code",
   "execution_count": 25,
   "id": "1cd1bf6f",
   "metadata": {},
   "outputs": [],
   "source": [
    "llm=ChatGroq(model='llama-3.1-70b-versatile',api_key=GROQ_API_KEY,temperature=1e-08)"
   ]
  },
  {
   "cell_type": "code",
   "execution_count": 26,
   "id": "f182d127",
   "metadata": {},
   "outputs": [
    {
     "data": {
      "text/plain": [
       "AIMessage(content='**Generative AI: An Overview**\\n\\nGenerative AI, also known as Generative Models or Generative Machine Learning, is a type of artificial intelligence that uses algorithms to generate new, synthetic data that resembles existing data. This technology has gained significant attention in recent years due to its potential to revolutionize various industries, including art, music, writing, and more.\\n\\n**How Generative AI Works**\\n\\nGenerative AI models are trained on large datasets of existing data, such as images, text, or audio. The model learns patterns, relationships, and structures within the data, allowing it to generate new data that is similar in style and content. The process involves the following steps:\\n\\n1. **Data Collection**: Gathering a large dataset of existing data, such as images, text, or audio.\\n2. **Model Training**: Training a generative model on the collected data, using algorithms such as Generative Adversarial Networks (GANs), Variational Autoencoders (VAEs), or Transformers.\\n3. **Pattern Learning**: The model learns patterns, relationships, and structures within the data, allowing it to generate new data.\\n4. **Data Generation**: The trained model generates new, synthetic data that resembles the existing data.\\n\\n**Types of Generative AI Models**\\n\\n1. **Generative Adversarial Networks (GANs)**: GANs consist of two neural networks: a generator and a discriminator. The generator creates new data, while the discriminator evaluates the generated data and provides feedback to the generator.\\n2. **Variational Autoencoders (VAEs)**: VAEs are neural networks that learn to compress and reconstruct data. They can generate new data by sampling from the learned distribution.\\n3. **Transformers**: Transformers are a type of neural network that uses self-attention mechanisms to generate data. They are commonly used for natural language processing tasks.\\n\\n**Applications of Generative AI**\\n\\n1. **Art and Design**: Generative AI can create new artwork, such as paintings, sculptures, or music, that is similar in style to existing art.\\n2. **Text Generation**: Generative AI can generate new text, such as articles, stories, or chatbot responses, that is similar in style and content to existing text.\\n3. **Music Generation**: Generative AI can create new music, such as melodies or beats, that is similar in style to existing music.\\n4. **Data Augmentation**: Generative AI can generate new data that can be used to augment existing datasets, improving the performance of machine learning models.\\n5. **Content Creation**: Generative AI can generate new content, such as videos, images, or text, that can be used for marketing, advertising, or entertainment.\\n\\n**Benefits of Generative AI**\\n\\n1. **Increased Efficiency**: Generative AI can automate tasks that would otherwise require human creativity and time.\\n2. **Improved Quality**: Generative AI can generate high-quality data that is similar in style and content to existing data.\\n3. **New Opportunities**: Generative AI can create new opportunities for artists, writers, and musicians to explore new styles and ideas.\\n\\n**Challenges and Limitations of Generative AI**\\n\\n1. **Bias and Fairness**: Generative AI models can perpetuate biases and stereotypes present in the training data.\\n2. **Lack of Control**: Generative AI models can be difficult to control, and the generated data may not always meet the desired requirements.\\n3. **Evaluation Metrics**: Evaluating the quality and effectiveness of generative AI models can be challenging.\\n\\n**Conclusion**\\n\\nGenerative AI is a rapidly evolving field that has the potential to revolutionize various industries. While there are challenges and limitations to consider, the benefits of generative AI make it an exciting and promising technology. As the field continues to evolve, we can expect to see new applications and innovations emerge.', additional_kwargs={}, response_metadata={'token_usage': {'completion_tokens': 776, 'prompt_tokens': 40, 'total_tokens': 816, 'completion_time': 3.119892256, 'prompt_time': 0.012776586, 'queue_time': 0.047764808, 'total_time': 3.132668842}, 'model_name': 'llama-3.1-70b-versatile', 'system_fingerprint': 'fp_b6828be2c9', 'finish_reason': 'stop', 'logprobs': None}, id='run-393e39a2-8ebd-4ce4-b5a8-3b7835ffa3b3-0', usage_metadata={'input_tokens': 40, 'output_tokens': 776, 'total_tokens': 816})"
      ]
     },
     "execution_count": 26,
     "metadata": {},
     "output_type": "execute_result"
    }
   ],
   "source": [
    "llm.invoke(\"explain about generative AI\")"
   ]
  },
  {
   "cell_type": "code",
   "execution_count": 27,
   "id": "0f056b23",
   "metadata": {},
   "outputs": [
    {
     "data": {
      "text/plain": [
       "AIMessage(content='I\\'m not able to provide real-time information. However, I can suggest some ways for you to find the current petrol price in Bangalore.\\n\\n1. **IOCL Website**: You can visit the Indian Oil Corporation Limited (IOCL) website ([www.iocl.com](http://www.iocl.com)) and click on the \"Petrol/Diesel Price\" link to find the current prices in Bangalore.\\n2. **Fuel Price Websites**: Websites like [www.fuelprice.io](http://www.fuelprice.io), [www.fuelpriceindia.com](http://www.fuelpriceindia.com), or [www.petrolprice.com](http://www.petrolprice.com) provide current fuel prices in various cities, including Bangalore.\\n3. **Mobile Apps**: You can download mobile apps like IOCL\\'s \"Fuel@IOC\" or \"Petrol Price India\" to find the current petrol prices in Bangalore.\\n4. **Google Search**: Simply type \"current petrol price in Bangalore\" or \"petrol price in Bangalore today\" in Google to find the latest prices.\\n\\nPlease note that fuel prices are subject to change and may vary depending on the location and the fuel station.', additional_kwargs={}, response_metadata={'token_usage': {'completion_tokens': 241, 'prompt_tokens': 42, 'total_tokens': 283, 'completion_time': 0.964, 'prompt_time': 0.012423511, 'queue_time': 0.005805757, 'total_time': 0.976423511}, 'model_name': 'llama-3.1-70b-versatile', 'system_fingerprint': 'fp_5c5d1b5cfb', 'finish_reason': 'stop', 'logprobs': None}, id='run-0089c8bf-72e5-4a56-8451-592df4a45e87-0', usage_metadata={'input_tokens': 42, 'output_tokens': 241, 'total_tokens': 283})"
      ]
     },
     "execution_count": 27,
     "metadata": {},
     "output_type": "execute_result"
    }
   ],
   "source": [
    "llm.invoke(\"todays petrol price in bangalore\")"
   ]
  },
  {
   "cell_type": "code",
   "execution_count": 28,
   "id": "860677b9",
   "metadata": {},
   "outputs": [],
   "source": [
    "memory = ConversationBufferMemory(memory_key=\"chat_history\", return_messages=True)"
   ]
  },
  {
   "cell_type": "code",
   "execution_count": 29,
   "id": "ed7e887b",
   "metadata": {},
   "outputs": [],
   "source": [
    "#Tool1 wikipedia\n",
    "api_wrapper = WikipediaAPIWrapper(top_k_results=1, doc_content_chars_max=500)\n",
    "tool_wiki=WikipediaQueryRun(api_wrapper=api_wrapper)"
   ]
  },
  {
   "cell_type": "code",
   "execution_count": 30,
   "id": "c694e415",
   "metadata": {},
   "outputs": [],
   "source": [
    "#Tool2 Google search\n",
    "search = GoogleSearchAPIWrapper(google_api_key=GOOGLE_API_KEY,google_cse_id=SEARCH_ENGINE_ID)\n",
    "tool_google = Tool(\n",
    "                name=\"google_search\",\n",
    "                description=\"Search Google for recent results.\",\n",
    "                func=search.run,\n",
    "            )"
   ]
  },
  {
   "cell_type": "code",
   "execution_count": 31,
   "id": "9464aca7",
   "metadata": {},
   "outputs": [],
   "source": [
    "tools=[tool_google,tool_wiki]"
   ]
  },
  {
   "cell_type": "code",
   "execution_count": 32,
   "id": "9fb11987",
   "metadata": {},
   "outputs": [],
   "source": [
    "#prompt template\n",
    "prompt=PromptTemplate(\n",
    "            input_variables=['chat_history', 'agent_scratchpad', 'input', 'tool_names', 'tools'],\n",
    "            metadata={\n",
    "                'lc_hub_owner': 'hwchase17',\n",
    "                'lc_hub_repo': 'react',\n",
    "                'lc_hub_commit_hash': 'd15fe3c426f1c4b3f37c9198853e4a86e20c425ca7f4752ec0c9b0e97ca7ea4d'\n",
    "            },\n",
    "            template=(\n",
    "                'You are an intelligent assistant that can answer questions and perform actions using the tools provided.\\n'\n",
    "                'You also have access to the conversation history, which you should use to provide more relevant and context-aware responses.\\n\\n'\n",
    "                'Here are the available tools:\\n\\n{tools}\\n\\n'\n",
    "                'Here is the chat history so far:\\n\\n{chat_history}\\n\\n'\n",
    "                'When responding, take the chat history into account.\\n'\n",
    "                'Use the following format to answer the questions:\\n\\n'\n",
    "                'Question: the input question you must answer\\n'\n",
    "                'Thought: you should always think about what to do based on the chat history and tools\\n'\n",
    "                'Action: the action to take, should be one of [{tool_names}]\\n'\n",
    "                'Action Input: the input to the action\\n'\n",
    "                'Observation: the result of the action\\n'\n",
    "                '... (this Thought/Action/Action Input/Observation can repeat N times)\\n'\n",
    "                'Thought: I now know the final answer\\n'\n",
    "                'Final Answer: the final answer to the original input question, considering the chat history\\n\\n'\n",
    "                'Begin!\\n\\n'\n",
    "                'Question: {input}\\n'\n",
    "                'Thought: {agent_scratchpad}'\n",
    "            )\n",
    "        )"
   ]
  },
  {
   "cell_type": "code",
   "execution_count": 33,
   "id": "acdf2240",
   "metadata": {},
   "outputs": [],
   "source": [
    "agent = create_react_agent(\n",
    "            llm=llm,\n",
    "            tools=tools,\n",
    "            prompt=prompt,\n",
    "            stop_sequence=True,\n",
    "        )"
   ]
  },
  {
   "cell_type": "code",
   "execution_count": 34,
   "id": "75cc172f",
   "metadata": {},
   "outputs": [],
   "source": [
    "agent_executor = AgentExecutor(agent=agent, tools=tools,memory=memory,handle_parsing_errors=True)"
   ]
  },
  {
   "cell_type": "code",
   "execution_count": 35,
   "id": "7bef7664",
   "metadata": {},
   "outputs": [],
   "source": [
    "response=agent_executor.invoke({\"input\": \"todays petrol price in bangalore\"})"
   ]
  },
  {
   "cell_type": "code",
   "execution_count": 36,
   "id": "6c10e145",
   "metadata": {},
   "outputs": [
    {
     "data": {
      "text/plain": [
       "{'input': 'todays petrol price in bangalore',\n",
       " 'chat_history': [HumanMessage(content='todays petrol price in bangalore', additional_kwargs={}, response_metadata={}),\n",
       "  AIMessage(content='The current petrol price in Bangalore as of 14 October 2024 is Rs. 103.57 per litre.', additional_kwargs={}, response_metadata={})],\n",
       " 'output': 'The current petrol price in Bangalore as of 14 October 2024 is Rs. 103.57 per litre.'}"
      ]
     },
     "execution_count": 36,
     "metadata": {},
     "output_type": "execute_result"
    }
   ],
   "source": [
    "response"
   ]
  },
  {
   "cell_type": "code",
   "execution_count": 37,
   "id": "352cb1d9",
   "metadata": {},
   "outputs": [
    {
     "name": "stdout",
     "output_type": "stream",
     "text": [
      "[HumanMessage(content='todays petrol price in bangalore', additional_kwargs={}, response_metadata={}), AIMessage(content='The current petrol price in Bangalore as of 14 October 2024 is Rs. 103.57 per litre.', additional_kwargs={}, response_metadata={})]\n"
     ]
    }
   ],
   "source": [
    "print(response.get(\"chat_history\"))"
   ]
  },
  {
   "cell_type": "code",
   "execution_count": 38,
   "id": "e97a36ad",
   "metadata": {},
   "outputs": [],
   "source": [
    "response=agent_executor.invoke({\"input\": \"list out the movies running in same place\"})"
   ]
  },
  {
   "cell_type": "code",
   "execution_count": 39,
   "id": "be186f8d",
   "metadata": {},
   "outputs": [
    {
     "name": "stdout",
     "output_type": "stream",
     "text": [
      "[HumanMessage(content='todays petrol price in bangalore', additional_kwargs={}, response_metadata={}), AIMessage(content='The current petrol price in Bangalore as of 14 October 2024 is Rs. 103.57 per litre.', additional_kwargs={}, response_metadata={}), HumanMessage(content='list out the movies running in same place', additional_kwargs={}, response_metadata={}), AIMessage(content='Based on the available information, here are some movies that are currently running in theaters in Bangalore:\\n\\n* Vettaiyan (Tamil)\\n* Vicky Vidya Ka Woh Video (Hindi)\\n* Jigra (Hindi)\\n\\nPlease note that this list may not be comprehensive or up-to-date, and I recommend checking with local theaters or online ticketing websites for the most current information.', additional_kwargs={}, response_metadata={})]\n"
     ]
    }
   ],
   "source": [
    "print(response.get(\"chat_history\"))"
   ]
  },
  {
   "cell_type": "code",
   "execution_count": null,
   "id": "c1f537e8",
   "metadata": {},
   "outputs": [],
   "source": []
  },
  {
   "cell_type": "code",
   "execution_count": null,
   "id": "a1c33e54",
   "metadata": {},
   "outputs": [],
   "source": []
  }
 ],
 "metadata": {
  "kernelspec": {
   "display_name": "Python (GPU)",
   "language": "python",
   "name": "gpu"
  },
  "language_info": {
   "codemirror_mode": {
    "name": "ipython",
    "version": 3
   },
   "file_extension": ".py",
   "mimetype": "text/x-python",
   "name": "python",
   "nbconvert_exporter": "python",
   "pygments_lexer": "ipython3",
   "version": "3.11.9"
  }
 },
 "nbformat": 4,
 "nbformat_minor": 5
}
